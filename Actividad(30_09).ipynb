{
  "nbformat": 4,
  "nbformat_minor": 0,
  "metadata": {
    "colab": {
      "provenance": []
    },
    "kernelspec": {
      "name": "python3",
      "display_name": "Python 3"
    },
    "language_info": {
      "name": "python"
    }
  },
  "cells": [
    {
      "cell_type": "code",
      "execution_count": 5,
      "metadata": {
        "colab": {
          "base_uri": "https://localhost:8080/"
        },
        "id": "lKXMTGzEXnl_",
        "outputId": "36bee287-5d95-4235-9863-f3ae56cfacbc"
      },
      "outputs": [
        {
          "output_type": "stream",
          "name": "stdout",
          "text": [
            "¿Cuál es el año actual?: 2022\n",
            "¿En qué año naciste?: 2003\n",
            "¿Cuál es el año actual?: 2022\n",
            "¿En qué año naciste?: 1999\n",
            "Mi edad es 19 , y la de mi amigo 23\n"
          ]
        }
      ],
      "source": [
        "def calculadora_edad (cuyear, yearob):\n",
        "  age = cuyear - yearob\n",
        "  return age\n",
        "\n",
        "y1=int(input(\"¿Cuál es el año actual?: \"))\n",
        "a1=int(input(\"¿En qué año naciste?: \"))\n",
        "y2=int(input(\"¿Cuál es el año actual?: \"))\n",
        "a2=int(input(\"¿En qué año naciste?: \"))\n",
        "ma=calculadora_edad(y1, a1)\n",
        "af=calculadora_edad(y2, a2)\n",
        "\n",
        "print(f\"Mi edad es {ma} , y la de mi amigo {af}\" )"
      ]
    },
    {
      "cell_type": "code",
      "source": [
        "def infopersonal ():\n",
        "  nom = \"Melanie\"\n",
        "  edad = 19\n",
        "  pa = \"Colombia\"\n",
        "\n",
        "  inf=print(nom + \" nació en \" + pa + \" y tiene \" + str(edad) + \" años de edad.\")\n",
        "\n",
        "infopersonal()"
      ],
      "metadata": {
        "colab": {
          "base_uri": "https://localhost:8080/"
        },
        "id": "NhMw2I11aPQX",
        "outputId": "01943a74-0c8f-46f9-fc80-ae485d2a3c8d"
      },
      "execution_count": 7,
      "outputs": [
        {
          "output_type": "stream",
          "name": "stdout",
          "text": [
            "Melanie nació en Colombia y tiene 19 años.\n"
          ]
        }
      ]
    }
  ]
}