{
  "nbformat": 4,
  "nbformat_minor": 0,
  "metadata": {
    "colab": {
      "provenance": []
    },
    "kernelspec": {
      "name": "python3",
      "display_name": "Python 3"
    },
    "language_info": {
      "name": "python"
    }
  },
  "cells": [
    {
      "cell_type": "markdown",
      "source": [
        "#1."
      ],
      "metadata": {
        "id": "aFVpalvlkEn9"
      }
    },
    {
      "cell_type": "code",
      "execution_count": 22,
      "metadata": {
        "id": "4uIeH_Hdgomb"
      },
      "outputs": [],
      "source": [
        "def mayor(a,b):\n",
        "  if a > b:\n",
        "    return a\n",
        "  else:\n",
        "    return b \n",
        "\n",
        "a=3\n",
        "b=1\n",
        "z=mayor(a,b)\n"
      ]
    },
    {
      "cell_type": "code",
      "source": [
        "z"
      ],
      "metadata": {
        "colab": {
          "base_uri": "https://localhost:8080/"
        },
        "id": "lijapcRKjyKd",
        "outputId": "3f9c0e69-0256-43ea-9b1b-8f03bf63449e"
      },
      "execution_count": 24,
      "outputs": [
        {
          "output_type": "execute_result",
          "data": {
            "text/plain": [
              "3"
            ]
          },
          "metadata": {},
          "execution_count": 24
        }
      ]
    },
    {
      "cell_type": "markdown",
      "source": [
        "#2."
      ],
      "metadata": {
        "id": "xB-gou36kKB7"
      }
    },
    {
      "cell_type": "code",
      "source": [
        "def Mayor(a,b,c):\n",
        "  z=mayor(a,b)\n",
        "\n",
        "  if z>c:\n",
        "    return z\n",
        "  else:\n",
        "    return c\n",
        "\n",
        "c=5\n",
        "x=Mayor(a,b,c)"
      ],
      "metadata": {
        "id": "g9rOAQ8AkMFc"
      },
      "execution_count": 26,
      "outputs": []
    },
    {
      "cell_type": "code",
      "source": [
        "x"
      ],
      "metadata": {
        "colab": {
          "base_uri": "https://localhost:8080/"
        },
        "id": "BbBeAFhfk9KL",
        "outputId": "24fca5cb-7a9d-45dc-8730-9263fcc21a4a"
      },
      "execution_count": 27,
      "outputs": [
        {
          "output_type": "execute_result",
          "data": {
            "text/plain": [
              "5"
            ]
          },
          "metadata": {},
          "execution_count": 27
        }
      ]
    },
    {
      "cell_type": "markdown",
      "source": [
        "#3. "
      ],
      "metadata": {
        "id": "kBPc3cH3lK_Y"
      }
    },
    {
      "cell_type": "code",
      "source": [
        "lista=[6,5,9]\n",
        "\n",
        "def suma(nums):\n",
        "  \n",
        "  b=0\n",
        "  b=nums[0]+nums[1]+nums[2]\n",
        "\n",
        "  return b\n",
        "\n",
        "\n"
      ],
      "metadata": {
        "id": "WjvLI3z9lM0_"
      },
      "execution_count": 53,
      "outputs": []
    },
    {
      "cell_type": "code",
      "source": [
        "suma(lista)"
      ],
      "metadata": {
        "colab": {
          "base_uri": "https://localhost:8080/"
        },
        "id": "QOSgIRVQlv8z",
        "outputId": "d14cecd7-29b2-48a9-d1ef-5f38e6fc2f7e"
      },
      "execution_count": 54,
      "outputs": [
        {
          "output_type": "execute_result",
          "data": {
            "text/plain": [
              "20"
            ]
          },
          "metadata": {},
          "execution_count": 54
        }
      ]
    },
    {
      "cell_type": "markdown",
      "source": [
        "#4. "
      ],
      "metadata": {
        "id": "WANYMA9anbci"
      }
    },
    {
      "cell_type": "code",
      "source": [
        "lis=[6,5,9,8]\n",
        "\n",
        "def sumar(num):\n",
        "  \n",
        "  c=0\n",
        "  c=num[0]+num[1]+num[2]+num[3]\n",
        "\n",
        "  return c\n"
      ],
      "metadata": {
        "id": "TG38h_Grncmi"
      },
      "execution_count": 64,
      "outputs": []
    },
    {
      "cell_type": "code",
      "source": [
        "sumar(lis)"
      ],
      "metadata": {
        "colab": {
          "base_uri": "https://localhost:8080/"
        },
        "id": "olB-mMminmvB",
        "outputId": "d7155c67-e7a6-4b92-a827-41db5c77e7b6"
      },
      "execution_count": 65,
      "outputs": [
        {
          "output_type": "execute_result",
          "data": {
            "text/plain": [
              "28"
            ]
          },
          "metadata": {},
          "execution_count": 65
        }
      ]
    },
    {
      "cell_type": "markdown",
      "source": [
        "#5. "
      ],
      "metadata": {
        "id": "hxW87sNxoIS5"
      }
    },
    {
      "cell_type": "code",
      "source": [
        "Lista = [8, 12, 21, 7, 89, 5, 11, 20, 21, 43]\n",
        "def sumaLista(Lista):\n",
        "  sumaLista=0\n",
        "  for number in Lista:\n",
        "    sumaLista+= number\n",
        "\n",
        "  return sumaLista\n"
      ],
      "metadata": {
        "id": "aAm4YKCtoJU6"
      },
      "execution_count": 1,
      "outputs": []
    },
    {
      "cell_type": "code",
      "source": [
        "a=sumaLista(Lista)\n",
        "\n",
        "print(a)"
      ],
      "metadata": {
        "colab": {
          "base_uri": "https://localhost:8080/"
        },
        "id": "hPCw0ru_onpF",
        "outputId": "3f57991c-de6f-48ca-fc0a-a1973623c199"
      },
      "execution_count": 2,
      "outputs": [
        {
          "output_type": "stream",
          "name": "stdout",
          "text": [
            "237\n"
          ]
        }
      ]
    },
    {
      "cell_type": "markdown",
      "source": [
        "#6."
      ],
      "metadata": {
        "id": "k7C5MorSqGRs"
      }
    },
    {
      "cell_type": "code",
      "source": [
        "listas=[5,8,3]\n",
        "\n",
        "def mult(numb):\n",
        "  t=0\n",
        "  t=numb[0]*numb[1]*numb[2]\n",
        "\n",
        "  return t\n"
      ],
      "metadata": {
        "id": "83Guc6a7qHZ0"
      },
      "execution_count": 4,
      "outputs": []
    },
    {
      "cell_type": "code",
      "source": [
        "mult(listas)"
      ],
      "metadata": {
        "colab": {
          "base_uri": "https://localhost:8080/"
        },
        "id": "Si08IP8qq-0w",
        "outputId": "4b9a6ca0-011a-4ba9-ef4f-e21c7de6e72e"
      },
      "execution_count": 6,
      "outputs": [
        {
          "output_type": "execute_result",
          "data": {
            "text/plain": [
              "120"
            ]
          },
          "metadata": {},
          "execution_count": 6
        }
      ]
    },
    {
      "cell_type": "markdown",
      "source": [
        "#7. "
      ],
      "metadata": {
        "id": "TMuL1eMCrEMb"
      }
    },
    {
      "cell_type": "code",
      "source": [
        "listt=[5,8,3,9]\n",
        "\n",
        "def multi(numbs):\n",
        "  y=0\n",
        "  y=numbs[0]*numbs[1]*numbs[2]*numbs[3]\n",
        "\n",
        "  return y"
      ],
      "metadata": {
        "id": "G8lmHfFSrFtE"
      },
      "execution_count": 11,
      "outputs": []
    },
    {
      "cell_type": "code",
      "source": [
        "multi(listt)"
      ],
      "metadata": {
        "colab": {
          "base_uri": "https://localhost:8080/"
        },
        "id": "yeTXY1_urOwE",
        "outputId": "9f1bf195-9eb0-4700-d48f-ac7a1ed209a1"
      },
      "execution_count": 12,
      "outputs": [
        {
          "output_type": "execute_result",
          "data": {
            "text/plain": [
              "1080"
            ]
          },
          "metadata": {},
          "execution_count": 12
        }
      ]
    },
    {
      "cell_type": "markdown",
      "source": [
        "#8."
      ],
      "metadata": {
        "id": "fqFDxyBKrhcr"
      }
    },
    {
      "cell_type": "code",
      "source": [
        "liste = [8, 12, 21, -7, 89, 5, 11, -20, 21, 43]\n",
        "def multliste(liste):\n",
        "  multliste=1\n",
        "  for x in liste:\n",
        "\n",
        "    multliste= multliste * x\n",
        "\n",
        "  return multliste\n",
        "    \n"
      ],
      "metadata": {
        "id": "0DSrL24xri4i"
      },
      "execution_count": 27,
      "outputs": []
    },
    {
      "cell_type": "code",
      "source": [
        "w=multliste(liste)\n",
        "\n",
        "print(w)\n",
        "\n"
      ],
      "metadata": {
        "colab": {
          "base_uri": "https://localhost:8080/"
        },
        "id": "faT_B0DLrtrs",
        "outputId": "d76d27de-20b7-4333-9cee-1201c75befbd"
      },
      "execution_count": 28,
      "outputs": [
        {
          "output_type": "stream",
          "name": "stdout",
          "text": [
            "1247553014400\n"
          ]
        }
      ]
    },
    {
      "cell_type": "markdown",
      "source": [
        "#9."
      ],
      "metadata": {
        "id": "LP2Z8gWetuCa"
      }
    },
    {
      "cell_type": "code",
      "source": [],
      "metadata": {
        "colab": {
          "base_uri": "https://localhost:8080/"
        },
        "id": "QX_mp4yutvfa",
        "outputId": "e469dfc7-38a1-4558-856e-d8b0cfbdafd4"
      },
      "execution_count": 34,
      "outputs": [
        {
          "output_type": "stream",
          "name": "stdout",
          "text": [
            "<function palreves at 0x7f403059f0e0>\n"
          ]
        }
      ]
    },
    {
      "cell_type": "markdown",
      "source": [
        "#10."
      ],
      "metadata": {
        "id": "iZ2p35b6vTyR"
      }
    },
    {
      "cell_type": "code",
      "source": [
        "n=input(\"Ingrese el número del que quiere conocer el factorial: \")\n",
        "\n",
        "def facnum(n): \n",
        "   \n",
        "    if (n==1 or n==0):\n",
        "       return 1 \n",
        "    else:\n",
        "      \n",
        "\n"
      ],
      "metadata": {
        "colab": {
          "base_uri": "https://localhost:8080/",
          "height": 339
        },
        "id": "ehTuZDRLvWry",
        "outputId": "2898c413-4796-4ea8-8d3b-a7ffb0f0dd98"
      },
      "execution_count": 40,
      "outputs": [
        {
          "name": "stdout",
          "output_type": "stream",
          "text": [
            "Ingrese el número del que quiere conocer el factorial: 4\n"
          ]
        },
        {
          "output_type": "error",
          "ename": "TypeError",
          "evalue": "ignored",
          "traceback": [
            "\u001b[0;31m---------------------------------------------------------------------------\u001b[0m",
            "\u001b[0;31mTypeError\u001b[0m                                 Traceback (most recent call last)",
            "\u001b[0;32m<ipython-input-40-32aaa516c943>\u001b[0m in \u001b[0;36m<module>\u001b[0;34m\u001b[0m\n\u001b[1;32m      8\u001b[0m        \u001b[0mn\u001b[0m \u001b[0;34m*\u001b[0m \u001b[0;34m(\u001b[0m\u001b[0mn\u001b[0m \u001b[0;34m-\u001b[0m \u001b[0;36m1\u001b[0m\u001b[0;34m)\u001b[0m\u001b[0;34m\u001b[0m\u001b[0;34m\u001b[0m\u001b[0m\n\u001b[1;32m      9\u001b[0m \u001b[0;34m\u001b[0m\u001b[0m\n\u001b[0;32m---> 10\u001b[0;31m \u001b[0mu\u001b[0m\u001b[0;34m=\u001b[0m\u001b[0mfacnum\u001b[0m\u001b[0;34m(\u001b[0m\u001b[0mn\u001b[0m\u001b[0;34m)\u001b[0m\u001b[0;34m\u001b[0m\u001b[0;34m\u001b[0m\u001b[0m\n\u001b[0m",
            "\u001b[0;32m<ipython-input-40-32aaa516c943>\u001b[0m in \u001b[0;36mfacnum\u001b[0;34m(n)\u001b[0m\n\u001b[1;32m      6\u001b[0m        \u001b[0;32mreturn\u001b[0m \u001b[0;36m1\u001b[0m\u001b[0;34m\u001b[0m\u001b[0;34m\u001b[0m\u001b[0m\n\u001b[1;32m      7\u001b[0m     \u001b[0;32melse\u001b[0m\u001b[0;34m:\u001b[0m\u001b[0;34m\u001b[0m\u001b[0;34m\u001b[0m\u001b[0m\n\u001b[0;32m----> 8\u001b[0;31m        \u001b[0mn\u001b[0m \u001b[0;34m*\u001b[0m \u001b[0;34m(\u001b[0m\u001b[0mn\u001b[0m \u001b[0;34m-\u001b[0m \u001b[0;36m1\u001b[0m\u001b[0;34m)\u001b[0m\u001b[0;34m\u001b[0m\u001b[0;34m\u001b[0m\u001b[0m\n\u001b[0m\u001b[1;32m      9\u001b[0m \u001b[0;34m\u001b[0m\u001b[0m\n\u001b[1;32m     10\u001b[0m \u001b[0mu\u001b[0m\u001b[0;34m=\u001b[0m\u001b[0mfacnum\u001b[0m\u001b[0;34m(\u001b[0m\u001b[0mn\u001b[0m\u001b[0;34m)\u001b[0m\u001b[0;34m\u001b[0m\u001b[0;34m\u001b[0m\u001b[0m\n",
            "\u001b[0;31mTypeError\u001b[0m: unsupported operand type(s) for -: 'str' and 'int'"
          ]
        }
      ]
    },
    {
      "cell_type": "code",
      "source": [
        "u"
      ],
      "metadata": {
        "id": "Heu8QSW3vxWY"
      },
      "execution_count": null,
      "outputs": []
    }
  ]
}