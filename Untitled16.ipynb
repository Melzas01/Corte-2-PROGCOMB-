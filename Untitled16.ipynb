{
  "nbformat": 4,
  "nbformat_minor": 0,
  "metadata": {
    "colab": {
      "provenance": []
    },
    "kernelspec": {
      "name": "python3",
      "display_name": "Python 3"
    },
    "language_info": {
      "name": "python"
    }
  },
  "cells": [
    {
      "cell_type": "markdown",
      "source": [
        "#Otro de alguien que no conozco"
      ],
      "metadata": {
        "id": "PlplkxpQpwYG"
      }
    },
    {
      "cell_type": "code",
      "source": [
        "import random \n",
        "numero1=[random.randint(0,2000) for x in range(100)]\n",
        "numero2=[random.randint(0,2000) for x in range(100)]\n",
        "comun=[]\n",
        "comun=list(filter(lambda num:num in numero1, numero2))\n",
        "print(comun)"
      ],
      "metadata": {
        "colab": {
          "base_uri": "https://localhost:8080/"
        },
        "id": "8406lDW7qX2W",
        "outputId": "5838c5d9-c062-4873-a216-095ebc59db35"
      },
      "execution_count": 2,
      "outputs": [
        {
          "output_type": "stream",
          "name": "stdout",
          "text": [
            "[542, 1742, 703, 1345]\n"
          ]
        }
      ]
    },
    {
      "cell_type": "code",
      "execution_count": 3,
      "metadata": {
        "colab": {
          "base_uri": "https://localhost:8080/"
        },
        "id": "SeinVsj_plYv",
        "outputId": "10da71f7-e7e2-4e43-f137-f85dd3bdcbe0"
      },
      "outputs": [
        {
          "output_type": "stream",
          "name": "stdout",
          "text": [
            "[623, 1652]\n"
          ]
        }
      ],
      "source": [
        "numero1=[random.randint(0,2000) for x in range(100)]\n",
        "numero2=[random.randint(0,2000) for x in range(100)]\n",
        "comun=[]\n",
        "for a in numero1:\n",
        "  for b in numero2:\n",
        "    if a == b:\n",
        "      comun.append(a)\n",
        "print(comun)"
      ]
    },
    {
      "cell_type": "code",
      "source": [
        "import random\n",
        "numero1=[random.randint(0,2000) for x in range(100)]\n",
        "numero2=[random.randint(0,2000) for x in range(100)]\n",
        "comun=[x for x in numero1 for y in numero2 if x==y]\n",
        "print(comun)"
      ],
      "metadata": {
        "colab": {
          "base_uri": "https://localhost:8080/"
        },
        "id": "8xj9orT6quec",
        "outputId": "bdde53f6-9fee-4693-e159-9d82346b45a2"
      },
      "execution_count": 17,
      "outputs": [
        {
          "output_type": "stream",
          "name": "stdout",
          "text": [
            "[1738, 1738, 182, 449, 1409, 1963, 1145, 372, 1340, 1191]\n"
          ]
        }
      ]
    },
    {
      "cell_type": "markdown",
      "source": [
        "#Otro de alguien que no sé quién es"
      ],
      "metadata": {
        "id": "LRbRFScUrX6L"
      }
    },
    {
      "cell_type": "code",
      "source": [
        "lambda_func=lambda x:x**2\n",
        "lambda_func(3)\n"
      ],
      "metadata": {
        "colab": {
          "base_uri": "https://localhost:8080/"
        },
        "id": "yxPdf-IorbqH",
        "outputId": "94dc63fb-6a5f-497c-91e3-fbe790b0a3e2"
      },
      "execution_count": 18,
      "outputs": [
        {
          "output_type": "execute_result",
          "data": {
            "text/plain": [
              "9"
            ]
          },
          "metadata": {},
          "execution_count": 18
        }
      ]
    },
    {
      "cell_type": "code",
      "source": [
        "def square1(num):\n",
        "  return num**2\n",
        "print(square1(5))\n"
      ],
      "metadata": {
        "colab": {
          "base_uri": "https://localhost:8080/"
        },
        "id": "zOOnkguLrrfo",
        "outputId": "8c6a264f-6e10-49d4-981d-c18d4164973d"
      },
      "execution_count": 20,
      "outputs": [
        {
          "output_type": "stream",
          "name": "stdout",
          "text": [
            "25\n"
          ]
        }
      ]
    },
    {
      "cell_type": "code",
      "source": [
        "L=[1,2,3,4]\n",
        "L2=[n**2 for n in L]\n",
        "print(L2)"
      ],
      "metadata": {
        "colab": {
          "base_uri": "https://localhost:8080/"
        },
        "id": "B-Hmkzmerzs_",
        "outputId": "f2869de4-cc68-4cfe-8fb4-72f62bd2b7df"
      },
      "execution_count": 19,
      "outputs": [
        {
          "output_type": "stream",
          "name": "stdout",
          "text": [
            "[1, 4, 9, 16]\n"
          ]
        }
      ]
    },
    {
      "cell_type": "markdown",
      "source": [
        "#Otro"
      ],
      "metadata": {
        "id": "zbcpX8ABuhcS"
      }
    },
    {
      "cell_type": "code",
      "source": [
        "nom1=['Samuelle', 'Angie', 'Valentina', 'Alejandro', 'Jonsito']\n",
        "nom2=['Samuelle', 'Andrea', 'Sandra', 'Anderson', 'Jonsito']\n"
      ],
      "metadata": {
        "id": "xl4mTVF9ui_C"
      },
      "execution_count": 22,
      "outputs": []
    },
    {
      "cell_type": "code",
      "source": [
        "common={a for a in nom1 for b in nom2 if a==b}\n",
        "common"
      ],
      "metadata": {
        "colab": {
          "base_uri": "https://localhost:8080/"
        },
        "id": "wNSBAe2Uu1np",
        "outputId": "d11ba9d2-e2ad-40d0-d711-83160516c2f2"
      },
      "execution_count": 23,
      "outputs": [
        {
          "output_type": "execute_result",
          "data": {
            "text/plain": [
              "{'Jonsito', 'Samuelle'}"
            ]
          },
          "metadata": {},
          "execution_count": 23
        }
      ]
    },
    {
      "cell_type": "code",
      "source": [
        "common1=lambda nom1, nom2:common\n",
        "print(common1(nom1, nom2))"
      ],
      "metadata": {
        "colab": {
          "base_uri": "https://localhost:8080/"
        },
        "id": "QqKxZVluvE34",
        "outputId": "27c40cdf-ca5f-41bf-ec5b-37013bd38837"
      },
      "execution_count": 24,
      "outputs": [
        {
          "output_type": "stream",
          "name": "stdout",
          "text": [
            "{'Samuelle', 'Jonsito'}\n"
          ]
        }
      ]
    },
    {
      "cell_type": "code",
      "source": [
        "def common(nom1, nom2):\n",
        "  return nom1, nom2"
      ],
      "metadata": {
        "id": "2GMVMqi3vOAI"
      },
      "execution_count": 26,
      "outputs": []
    },
    {
      "cell_type": "code",
      "source": [
        "nom1, nom2"
      ],
      "metadata": {
        "colab": {
          "base_uri": "https://localhost:8080/"
        },
        "id": "xz_l1FSWvYsp",
        "outputId": "2b98de98-6c6e-44f1-a5f1-df069a6e0b11"
      },
      "execution_count": 27,
      "outputs": [
        {
          "output_type": "execute_result",
          "data": {
            "text/plain": [
              "(['Samuelle', 'Angie', 'Valentina', 'Alejandro', 'Jonsito'],\n",
              " ['Samuelle', 'Andrea', 'Sandra', 'Anderson', 'Jonsito'])"
            ]
          },
          "metadata": {},
          "execution_count": 27
        }
      ]
    },
    {
      "cell_type": "code",
      "source": [
        "def listaIMC(usuarios):\n",
        "  sis=[]\n",
        "  imc=[]\n",
        "  b=0\n",
        "  a2=0\n",
        "  for n in range (usuarios):\n",
        "    w=input('¿Cuál es tu nombre?: ')\n",
        "    b=int(input('Ingresa el peso: '))\n",
        "    a2=int(input('Ingresa la altura: '))\n",
        "    sis.append(w, b/a2**2)\n",
        "    imc.append(b/a2**2)\n",
        "  return sis, imc\n",
        "\n",
        "user=int(input(\"¿Cuántos usuarios hay?\"))\n",
        "\n",
        "sis,imc=listaIMC(user)\n"
      ],
      "metadata": {
        "id": "UMR-QMrJwqm9"
      },
      "execution_count": null,
      "outputs": []
    },
    {
      "cell_type": "code",
      "source": [
        "sis=listaIMC(user)\n",
        "sis2=[n for n in imc if n>=18.5]\n",
        "print(sis2)"
      ],
      "metadata": {
        "id": "0sGOezJLxqc0"
      },
      "execution_count": null,
      "outputs": []
    },
    {
      "cell_type": "code",
      "source": [
        "sis3=list(map(lambda x: 'Peso insuficiente' if x<18.5 else 'Peso normal' if (x>=18.5 and x<24.9) else 'Sobrepeso' if (x>= 24.9 and x<30) else 'Obeso', imc))"
      ],
      "metadata": {
        "id": "a72GLADGx7gt"
      },
      "execution_count": null,
      "outputs": []
    },
    {
      "cell_type": "markdown",
      "source": [
        "#Otro"
      ],
      "metadata": {
        "id": "kjE1fXtBzpD6"
      }
    },
    {
      "cell_type": "code",
      "source": [
        "print('Ingrese su código: ')\n",
        "caracter=input()\n",
        "if len(caracter)==8:\n",
        "  if caracter(0)=='u':\n",
        "    print('Eres estudiante Unab')\n",
        "  elif (caracter.startwith('a000')):\n",
        "    print(\"Eres estudiante de Los Andes\")\n",
        "  else:\n",
        "    if(int(caracter)>=1950):\n",
        "      print('Eres estudiante UIS')\n",
        "\n",
        "else:\n",
        "  print('Tú código no corresponde a ninguna universidad, revísalo')"
      ],
      "metadata": {
        "id": "_xsLbXHK0iGg"
      },
      "execution_count": null,
      "outputs": []
    },
    {
      "cell_type": "code",
      "source": [
        "universidades=['unab', 'uis', 'andes']\n",
        "código=['U0123456', '198562', 'a0005645']\n",
        "\n",
        "u=[cod for cod in código if (cod[0]=='u' and len(cod)==8)]\n",
        "print(u)"
      ],
      "metadata": {
        "id": "k8rP7oKw1cuJ"
      },
      "execution_count": null,
      "outputs": []
    },
    {
      "cell_type": "code",
      "source": [
        "y=list(map(lambda x:'unab' if (x[0]=='U' or x[0]==\"u\") else None, código))\n",
        "print(y)\n",
        "\n",
        "['unab', None, None]"
      ],
      "metadata": {
        "id": "_am2msej2j-h"
      },
      "execution_count": null,
      "outputs": []
    },
    {
      "cell_type": "markdown",
      "source": [
        "#Otro"
      ],
      "metadata": {
        "id": "eEMUE31O3lkY"
      }
    },
    {
      "cell_type": "code",
      "source": [
        "lista=[]\n",
        "x=0\n",
        "while x==0:\n",
        "  entrada = input('Ingresa un código')\n",
        "  lista.append(entrada)\n",
        "  a=int(input('¿Desde ingresar otro?, Ingresa 0 si lo deseas, de lo contrario ingresa 1'))\n",
        "  if(a==1):\n",
        "    x=x+1\n",
        "\n",
        "clasificacion=[a for a in lista if a.startwith('U00') and len(a)==9]\n",
        "print(f'Hay {len(clasificacion)} estudiante(s) de los Andes y sus código(s) son {clasificacion}')\n",
        "\n",
        "clasificacion = [a for a in lista if a.startwith(\"A000\") and len(a)==9]\n",
        "print(f'Hay {len(clasificacion)} estudiante(s) de los Andes y sus códigos son {clasificacion}')"
      ],
      "metadata": {
        "id": "bkYCXO4D3myg"
      },
      "execution_count": null,
      "outputs": []
    },
    {
      "cell_type": "code",
      "source": [
        "def funcion(lista, numDigitos, Universidad, clasCodigo):\n",
        "  clasificacion=[a for a in lista if a.startwith(clasCodigo) and len(a)==numDigitos]\n",
        "  print(f'Hay (len')"
      ],
      "metadata": {
        "id": "-vbuFnBK5JRx"
      },
      "execution_count": null,
      "outputs": []
    }
  ]
}